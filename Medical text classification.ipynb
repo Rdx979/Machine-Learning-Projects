{
 "cells": [
  {
   "cell_type": "markdown",
   "id": "e1744194",
   "metadata": {},
   "source": [
    "To identify medical condition of patient from given text... Here 1,2,3,4,5 indicates different medical conditions."
   ]
  },
  {
   "cell_type": "code",
   "execution_count": 19,
   "id": "c372c5c7",
   "metadata": {},
   "outputs": [],
   "source": [
    "import numpy as np\n",
    "import matplotlib.pyplot as plt\n",
    "import pandas as pd\n",
    "import nltk\n",
    "from nltk.corpus import stopwords\n",
    "import re"
   ]
  },
  {
   "cell_type": "code",
   "execution_count": 20,
   "id": "aa2ee674",
   "metadata": {},
   "outputs": [],
   "source": [
    "labels = []\n",
    "texts = []\n",
    "\n",
    "with open(\"C:/Users/Com/Downloads/Compressed/Medical Text Classification/train.dat\") as fh:\n",
    "    train_lines = fh.readlines()\n",
    "for line in train_lines:\n",
    "    splitlines = line.split('\\t')\n",
    "    labels.append(splitlines[0])\n",
    "    texts.append(splitlines[1].lower())"
   ]
  },
  {
   "cell_type": "code",
   "execution_count": 21,
   "id": "46def131",
   "metadata": {},
   "outputs": [
    {
     "name": "stdout",
     "output_type": "stream",
     "text": [
      "14438 14438\n"
     ]
    }
   ],
   "source": [
    "print(len(texts),len(labels))"
   ]
  },
  {
   "cell_type": "code",
   "execution_count": 22,
   "id": "5dbdc91e",
   "metadata": {},
   "outputs": [
    {
     "data": {
      "text/plain": [
       "'a controlled trial comparing vidarabine with acyclovir in neonatal herpes simplex virus infection. infectious diseases collaborative antiviral study group. background. despite the use of vidarabine, herpes simplex virus (hsv) infection in neonates continues to be a disease of high morbidity and mortality. we undertook a controlled trial comparing vidarabine with acyclovir for the treatment of neonatal hsv infection. methods. babies less than one month of age with virologically confirmed hsv infection were randomly and blindly assigned to receive either intravenous vidarabine (30 mg per kilogram of body weight per day; n = 95) or acyclovir (30 mg per kilogram per day; n = 107) for 10 days. actuarial rates of mortality and morbidity among the survivors after one year were compared overall and according to the extent of the disease at entry into the study (infection confined to the skin, eyes, or mouth; encephalitis; or disseminated disease). results. after adjustment for differences between groups in the extent of disease, there was no difference between vidarabine and acyclovir in either morbidity (p = 0.83) or mortality (p = 0.27). none of the 85 babies with disease confined to the skin, eyes, or mouth died. of the 31 babies in this group who were treated with vidarabine and followed for a year, 88 percent (22 of 25) were judged to be developing normally after one year, as compared with 98 percent (45 of 46) of the 54 treated with acyclovir (95 percent confidence interval for the difference, -4 to 24). for the 71 babies with encephalitis, mortality was 14 percent with vidarabine (5 of 36) and with acyclovir (5 of 35); of the survivors, 43 percent (13 of 30) and 29 percent (8 of 28), respectively, were developing normally after one year (95 percent confidence interval for the difference, -11 to 39). for the 46 babies with disseminated disease, mortality was 50 percent (14 of 28) with vidarabine and 61 percent (11 of 18) with acyclovir (95 percent confidence interval for the difference, -20 to 40); of the survivors, 58 percent (7 of 12) and 60 percent (3 of 5), respectively, were judged to be developing normally after one year (95 percent confidence interval for the difference, -40 to 50). both medications were without serious toxic effects. conclusions. in this multicenter, randomized, blinded study there were no differences in outcome between vidarabine and acyclovir in the treatment of neonatal hsv infection. the study lacked statistical power to determine whether there were sizable differences within the subgroups of those with localized hsv, encephalitis, or disseminated disease. \\n'"
      ]
     },
     "execution_count": 22,
     "metadata": {},
     "output_type": "execute_result"
    }
   ],
   "source": [
    "#example\n",
    "texts[13]"
   ]
  },
  {
   "cell_type": "code",
   "execution_count": 23,
   "id": "01c5b220",
   "metadata": {},
   "outputs": [],
   "source": [
    "#Remove special characters\n",
    "special_texts = []\n",
    "for i in range(len(texts)):\n",
    "    special_texts.append(re.sub('[^A-Za-z0-9 ]+', '', texts[i]))"
   ]
  },
  {
   "cell_type": "code",
   "execution_count": 24,
   "id": "0b872006",
   "metadata": {},
   "outputs": [
    {
     "name": "stdout",
     "output_type": "stream",
     "text": [
      "14438\n"
     ]
    },
    {
     "data": {
      "text/plain": [
       "'a controlled trial comparing vidarabine with acyclovir in neonatal herpes simplex virus infection infectious diseases collaborative antiviral study group background despite the use of vidarabine herpes simplex virus hsv infection in neonates continues to be a disease of high morbidity and mortality we undertook a controlled trial comparing vidarabine with acyclovir for the treatment of neonatal hsv infection methods babies less than one month of age with virologically confirmed hsv infection were randomly and blindly assigned to receive either intravenous vidarabine 30 mg per kilogram of body weight per day n  95 or acyclovir 30 mg per kilogram per day n  107 for 10 days actuarial rates of mortality and morbidity among the survivors after one year were compared overall and according to the extent of the disease at entry into the study infection confined to the skin eyes or mouth encephalitis or disseminated disease results after adjustment for differences between groups in the extent of disease there was no difference between vidarabine and acyclovir in either morbidity p  083 or mortality p  027 none of the 85 babies with disease confined to the skin eyes or mouth died of the 31 babies in this group who were treated with vidarabine and followed for a year 88 percent 22 of 25 were judged to be developing normally after one year as compared with 98 percent 45 of 46 of the 54 treated with acyclovir 95 percent confidence interval for the difference 4 to 24 for the 71 babies with encephalitis mortality was 14 percent with vidarabine 5 of 36 and with acyclovir 5 of 35 of the survivors 43 percent 13 of 30 and 29 percent 8 of 28 respectively were developing normally after one year 95 percent confidence interval for the difference 11 to 39 for the 46 babies with disseminated disease mortality was 50 percent 14 of 28 with vidarabine and 61 percent 11 of 18 with acyclovir 95 percent confidence interval for the difference 20 to 40 of the survivors 58 percent 7 of 12 and 60 percent 3 of 5 respectively were judged to be developing normally after one year 95 percent confidence interval for the difference 40 to 50 both medications were without serious toxic effects conclusions in this multicenter randomized blinded study there were no differences in outcome between vidarabine and acyclovir in the treatment of neonatal hsv infection the study lacked statistical power to determine whether there were sizable differences within the subgroups of those with localized hsv encephalitis or disseminated disease '"
      ]
     },
     "execution_count": 24,
     "metadata": {},
     "output_type": "execute_result"
    }
   ],
   "source": [
    "print(len(special_texts))\n",
    "#Before removing stopwords\n",
    "special_texts[13]"
   ]
  },
  {
   "cell_type": "code",
   "execution_count": 25,
   "id": "7e79eee4",
   "metadata": {},
   "outputs": [],
   "source": [
    "#Remove stopwords\n",
    "#nltk.download('stopwords')\n",
    "filtered_texts=[]\n",
    "stop_words = set(stopwords.words('english'))\n",
    "\n",
    "for i in range(len(special_texts)):\n",
    "    sword=\"\"\n",
    "    for w in special_texts[i].split():\n",
    "        if w not in stop_words:\n",
    "            sword = sword+' '+w\n",
    "            #print(len(sword))\n",
    "    filtered_texts.append(sword)"
   ]
  },
  {
   "cell_type": "code",
   "execution_count": 26,
   "id": "9b6b5324",
   "metadata": {},
   "outputs": [
    {
     "data": {
      "text/plain": [
       "' controlled trial comparing vidarabine acyclovir neonatal herpes simplex virus infection infectious diseases collaborative antiviral study group background despite use vidarabine herpes simplex virus hsv infection neonates continues disease high morbidity mortality undertook controlled trial comparing vidarabine acyclovir treatment neonatal hsv infection methods babies less one month age virologically confirmed hsv infection randomly blindly assigned receive either intravenous vidarabine 30 mg per kilogram body weight per day n 95 acyclovir 30 mg per kilogram per day n 107 10 days actuarial rates mortality morbidity among survivors one year compared overall according extent disease entry study infection confined skin eyes mouth encephalitis disseminated disease results adjustment differences groups extent disease difference vidarabine acyclovir either morbidity p 083 mortality p 027 none 85 babies disease confined skin eyes mouth died 31 babies group treated vidarabine followed year 88 percent 22 25 judged developing normally one year compared 98 percent 45 46 54 treated acyclovir 95 percent confidence interval difference 4 24 71 babies encephalitis mortality 14 percent vidarabine 5 36 acyclovir 5 35 survivors 43 percent 13 30 29 percent 8 28 respectively developing normally one year 95 percent confidence interval difference 11 39 46 babies disseminated disease mortality 50 percent 14 28 vidarabine 61 percent 11 18 acyclovir 95 percent confidence interval difference 20 40 survivors 58 percent 7 12 60 percent 3 5 respectively judged developing normally one year 95 percent confidence interval difference 40 50 medications without serious toxic effects conclusions multicenter randomized blinded study differences outcome vidarabine acyclovir treatment neonatal hsv infection study lacked statistical power determine whether sizable differences within subgroups localized hsv encephalitis disseminated disease'"
      ]
     },
     "execution_count": 26,
     "metadata": {},
     "output_type": "execute_result"
    }
   ],
   "source": [
    "#after removing stopwords\n",
    "filtered_texts[13]"
   ]
  },
  {
   "cell_type": "code",
   "execution_count": 9,
   "id": "ad88a34e",
   "metadata": {},
   "outputs": [
    {
     "name": "stdout",
     "output_type": "stream",
     "text": [
      "<class 'list'> <class 'list'>\n"
     ]
    }
   ],
   "source": [
    "#one time only\n",
    "print(type(filtered_texts),type(labels))\n",
    "\n",
    "with open('C:/Users/Com/Downloads/Compressed/Medical Text Classification/Filtered_text.txt', 'w+') as ft:\n",
    "      \n",
    "    # write elements of list\n",
    "    for items in filtered_texts:\n",
    "        ft.write('%s\\n' %items)\n",
    "        \n",
    "ft.close()\n",
    "\n",
    "with open('C:/Users/Com/Downloads/Compressed/Medical Text Classification/labels.txt', 'w+') as fl:\n",
    "      \n",
    "    # write elements of list\n",
    "    for items in labels:\n",
    "        fl.write('%s\\n' %items)\n",
    "        \n",
    "fl.close()"
   ]
  },
  {
   "cell_type": "code",
   "execution_count": 10,
   "id": "9f703bda",
   "metadata": {},
   "outputs": [],
   "source": [
    "filtered_text_tokens=[]\n",
    "for t in range(len(filtered_texts)):\n",
    "    filtered_text_tokens.append(nltk.word_tokenize(filtered_texts[t]))"
   ]
  },
  {
   "cell_type": "code",
   "execution_count": 11,
   "id": "4122a27d",
   "metadata": {},
   "outputs": [
    {
     "name": "stdout",
     "output_type": "stream",
     "text": [
      "914116\n"
     ]
    },
    {
     "data": {
      "text/plain": [
       "' controlled trial comparing vidarabine acyclovir neonatal herpes simplex virus infection infectious diseases collaborative antiviral study group background despite use vidarabine herpes simplex virus hsv infection neonates continues disease high morbidity mortality undertook controlled trial comparing vidarabine acyclovir treatment neonatal hsv infection methods babies less one month age virologically confirmed hsv infection randomly blindly assigned receive either intravenous vidarabine 30 mg per kilogram body weight per day n 95 acyclovir 30 mg per kilogram per day n 107 10 days actuarial rates mortality morbidity among survivors one year compared overall according extent disease entry study infection confined skin eyes mouth encephalitis disseminated disease results adjustment differences groups extent disease difference vidarabine acyclovir either morbidity p 083 mortality p 027 none 85 babies disease confined skin eyes mouth died 31 babies group treated vidarabine followed year 88 percent 22 25 judged developing normally one year compared 98 percent 45 46 54 treated acyclovir 95 percent confidence interval difference 4 24 71 babies encephalitis mortality 14 percent vidarabine 5 36 acyclovir 5 35 survivors 43 percent 13 30 29 percent 8 28 respectively developing normally one year 95 percent confidence interval difference 11 39 46 babies disseminated disease mortality 50 percent 14 28 vidarabine 61 percent 11 18 acyclovir 95 percent confidence interval difference 20 40 survivors 58 percent 7 12 60 percent 3 5 respectively judged developing normally one year 95 percent confidence interval difference 40 50 medications without serious toxic effects conclusions multicenter randomized blinded study differences outcome vidarabine acyclovir treatment neonatal hsv infection study lacked statistical power determine whether sizable differences within subgroups localized hsv encephalitis disseminated disease'"
      ]
     },
     "execution_count": 11,
     "metadata": {},
     "output_type": "execute_result"
    }
   ],
   "source": [
    "#temp\n",
    "#example\n",
    "word_diff = 0\n",
    "for d in range(len(special_texts)):\n",
    "    word_difference_count = len(special_texts[d].split()) - len(filtered_texts[d].split())\n",
    "    word_diff += word_difference_count\n",
    "print(word_diff)\n",
    "filtered_texts[13]"
   ]
  },
  {
   "cell_type": "code",
   "execution_count": 27,
   "id": "38e13aae",
   "metadata": {},
   "outputs": [
    {
     "data": {
      "text/plain": [
       "0    4\n",
       "1    5\n",
       "2    2\n",
       "3    5\n",
       "4    4\n",
       "5    1\n",
       "6    5\n",
       "7    5\n",
       "8    3\n",
       "9    5\n",
       "Name: Medical Condition, dtype: object"
      ]
     },
     "execution_count": 27,
     "metadata": {},
     "output_type": "execute_result"
    }
   ],
   "source": [
    "labels_pd = pd.Series(labels,name='Medical Condition')\n",
    "labels_pd.head(10)"
   ]
  },
  {
   "cell_type": "code",
   "execution_count": 28,
   "id": "b48efba9",
   "metadata": {},
   "outputs": [
    {
     "data": {
      "text/plain": [
       "0      catheterization laboratory events hospital ou...\n",
       "1      renal abscess children three cases renal absc...\n",
       "2      hyperplastic polyps seen sigmoidoscopy marker...\n",
       "3      subclavian artery innominate vein fistula ins...\n",
       "4      effect local inhibition gammaaminobutyric aci...\n",
       "5      infection chronic epidural catheterization di...\n",
       "6      mediastinal tracheostomy using pectoralis maj...\n",
       "7      tumefactive fibroinflammatory lesion extremit...\n",
       "8      multiple representations contribute body know...\n",
       "9      increasing asthma prevalence rural new zealan...\n",
       "10     usefulness automatic implantable cardioverter...\n",
       "11     stressrelated mucosal damage review drug ther...\n",
       "12     biphasic pattern antipres responses acute hep...\n",
       "13     controlled trial comparing vidarabine acyclov...\n",
       "14     pentostatin induces durable remissions hairy ...\n",
       "Name: Abstract, dtype: object"
      ]
     },
     "execution_count": 28,
     "metadata": {},
     "output_type": "execute_result"
    }
   ],
   "source": [
    "text_pd = pd.Series(filtered_texts,name='Abstract')\n",
    "text_pd.head(15)"
   ]
  },
  {
   "cell_type": "code",
   "execution_count": 29,
   "id": "b58182a1",
   "metadata": {},
   "outputs": [
    {
     "data": {
      "text/html": [
       "<div>\n",
       "<style scoped>\n",
       "    .dataframe tbody tr th:only-of-type {\n",
       "        vertical-align: middle;\n",
       "    }\n",
       "\n",
       "    .dataframe tbody tr th {\n",
       "        vertical-align: top;\n",
       "    }\n",
       "\n",
       "    .dataframe thead th {\n",
       "        text-align: right;\n",
       "    }\n",
       "</style>\n",
       "<table border=\"1\" class=\"dataframe\">\n",
       "  <thead>\n",
       "    <tr style=\"text-align: right;\">\n",
       "      <th></th>\n",
       "      <th>Abstract</th>\n",
       "      <th>Medical Condition</th>\n",
       "    </tr>\n",
       "  </thead>\n",
       "  <tbody>\n",
       "    <tr>\n",
       "      <th>0</th>\n",
       "      <td>catheterization laboratory events hospital ou...</td>\n",
       "      <td>4</td>\n",
       "    </tr>\n",
       "    <tr>\n",
       "      <th>1</th>\n",
       "      <td>renal abscess children three cases renal absc...</td>\n",
       "      <td>5</td>\n",
       "    </tr>\n",
       "    <tr>\n",
       "      <th>2</th>\n",
       "      <td>hyperplastic polyps seen sigmoidoscopy marker...</td>\n",
       "      <td>2</td>\n",
       "    </tr>\n",
       "    <tr>\n",
       "      <th>3</th>\n",
       "      <td>subclavian artery innominate vein fistula ins...</td>\n",
       "      <td>5</td>\n",
       "    </tr>\n",
       "    <tr>\n",
       "      <th>4</th>\n",
       "      <td>effect local inhibition gammaaminobutyric aci...</td>\n",
       "      <td>4</td>\n",
       "    </tr>\n",
       "    <tr>\n",
       "      <th>5</th>\n",
       "      <td>infection chronic epidural catheterization di...</td>\n",
       "      <td>1</td>\n",
       "    </tr>\n",
       "    <tr>\n",
       "      <th>6</th>\n",
       "      <td>mediastinal tracheostomy using pectoralis maj...</td>\n",
       "      <td>5</td>\n",
       "    </tr>\n",
       "    <tr>\n",
       "      <th>7</th>\n",
       "      <td>tumefactive fibroinflammatory lesion extremit...</td>\n",
       "      <td>5</td>\n",
       "    </tr>\n",
       "    <tr>\n",
       "      <th>8</th>\n",
       "      <td>multiple representations contribute body know...</td>\n",
       "      <td>3</td>\n",
       "    </tr>\n",
       "    <tr>\n",
       "      <th>9</th>\n",
       "      <td>increasing asthma prevalence rural new zealan...</td>\n",
       "      <td>5</td>\n",
       "    </tr>\n",
       "  </tbody>\n",
       "</table>\n",
       "</div>"
      ],
      "text/plain": [
       "                                            Abstract Medical Condition\n",
       "0   catheterization laboratory events hospital ou...                 4\n",
       "1   renal abscess children three cases renal absc...                 5\n",
       "2   hyperplastic polyps seen sigmoidoscopy marker...                 2\n",
       "3   subclavian artery innominate vein fistula ins...                 5\n",
       "4   effect local inhibition gammaaminobutyric aci...                 4\n",
       "5   infection chronic epidural catheterization di...                 1\n",
       "6   mediastinal tracheostomy using pectoralis maj...                 5\n",
       "7   tumefactive fibroinflammatory lesion extremit...                 5\n",
       "8   multiple representations contribute body know...                 3\n",
       "9   increasing asthma prevalence rural new zealan...                 5"
      ]
     },
     "execution_count": 29,
     "metadata": {},
     "output_type": "execute_result"
    }
   ],
   "source": [
    "df = pd.concat([text_pd,labels_pd],axis=1)\n",
    "df.head(10)"
   ]
  },
  {
   "cell_type": "code",
   "execution_count": 16,
   "id": "5729248f",
   "metadata": {},
   "outputs": [
    {
     "data": {
      "text/plain": [
       "5    4805\n",
       "1    3163\n",
       "4    3051\n",
       "3    1925\n",
       "2    1494\n",
       "Name: Medical Condition, dtype: int64"
      ]
     },
     "execution_count": 16,
     "metadata": {},
     "output_type": "execute_result"
    }
   ],
   "source": [
    "df['Medical Condition'].value_counts()"
   ]
  },
  {
   "cell_type": "code",
   "execution_count": 15,
   "id": "17cc51f6",
   "metadata": {},
   "outputs": [],
   "source": [
    "df.to_csv(\"C:/Users/Com/Downloads/Compressed/Medical Text Classification/filtered_medical_text.csv\",index=False)"
   ]
  },
  {
   "cell_type": "code",
   "execution_count": 15,
   "id": "cb4c7e01",
   "metadata": {},
   "outputs": [],
   "source": [
    "import gensim\n",
    "\n",
    "# Word2Vec expects the input to be list of tokens(Bydefault vector dimension is 100)\n",
    "model = gensim.models.Word2Vec(filtered_text_tokens)\n",
    "X = list(model.wv.key_to_index)"
   ]
  },
  {
   "cell_type": "code",
   "execution_count": 16,
   "id": "b2f7d8a7",
   "metadata": {
    "scrolled": true
   },
   "outputs": [
    {
     "data": {
      "text/plain": [
       "array([ 2.447324  ,  0.44330826, -0.36002487,  1.7651896 , -0.13713834,\n",
       "        1.0916467 ,  1.1215321 ,  0.22271687, -0.07997933, -1.9472588 ,\n",
       "        0.4917488 , -0.50207794, -0.6414209 , -0.37151513, -0.9264241 ,\n",
       "        1.5171773 , -0.849548  , -1.3712538 ,  0.05091485, -0.7391695 ,\n",
       "        0.29964566,  1.5259786 ,  0.22511624, -0.70090955,  0.7240055 ,\n",
       "        1.08741   , -0.2801401 ,  0.04719223, -0.18058755, -0.41513264,\n",
       "        1.3106853 , -1.3480058 ,  1.2995657 ,  0.48376742,  0.8626025 ,\n",
       "        0.09198447,  0.01462076,  1.1167277 , -0.46643063, -2.5744402 ,\n",
       "       -0.4309839 , -0.05310328,  0.01092274,  0.19455026, -0.27328378,\n",
       "       -0.11409502, -1.4716418 , -0.21763825, -1.2408633 ,  1.2903945 ,\n",
       "        0.04107483, -0.76099974,  0.25111675, -0.09864248,  0.17379326,\n",
       "        0.76755244, -0.7282196 ,  0.22128968, -2.2412255 , -0.7612704 ,\n",
       "       -0.6333575 ,  0.25037327, -0.26999778,  0.53432864, -1.6321672 ,\n",
       "        0.6452713 , -1.7732762 ,  0.00433619, -0.5693693 ,  0.5539815 ,\n",
       "       -0.6342948 ,  0.76215124,  0.5404999 , -1.3870143 , -0.6988446 ,\n",
       "       -0.62525284, -1.2278539 ,  0.71165967, -0.11429584, -0.7685611 ,\n",
       "        1.6647097 , -0.5604022 , -0.89732856,  1.9970834 , -0.26244867,\n",
       "        0.57065606,  0.8151706 , -0.286484  , -0.23960204,  0.46294567,\n",
       "        0.22867312, -0.20263298, -0.4075776 ,  0.9744309 ,  1.1052572 ,\n",
       "       -0.27588272, -0.8209452 , -0.87634504,  1.4745862 , -0.30466878],\n",
       "      dtype=float32)"
      ]
     },
     "execution_count": 16,
     "metadata": {},
     "output_type": "execute_result"
    }
   ],
   "source": [
    "#Example Word2Vec representation of word 'genetic'\n",
    "model.wv['genetic']"
   ]
  },
  {
   "cell_type": "code",
   "execution_count": 17,
   "id": "e392fdfe",
   "metadata": {},
   "outputs": [
    {
     "data": {
      "text/plain": [
       "array([ 0.14576073,  0.15100242,  0.14779116,  0.2676732 , -0.21871014,\n",
       "       -0.08458782, -0.05584787,  0.20594162, -0.33419293, -0.09938388,\n",
       "        0.11015   , -0.28575894, -0.19725324,  0.10635623, -0.04081573,\n",
       "        0.08741688,  0.06030985, -0.53687745,  0.02241987, -0.41880086,\n",
       "        0.18910554,  0.39412573,  0.3429076 ,  0.15920761, -0.23927392,\n",
       "        0.4455803 , -0.37780818,  0.0054295 , -0.2897008 , -0.02575424,\n",
       "        0.292082  , -0.10701336,  0.11375269,  0.13897286, -0.02856237,\n",
       "        0.10850158,  0.01839825,  0.11343413, -0.08756211, -0.45269626,\n",
       "        0.04987811, -0.27469224, -0.11131913,  0.4332355 ,  0.10909015,\n",
       "        0.1526718 , -0.41973642, -0.06644846, -0.39784363,  0.15273857,\n",
       "        0.09226463, -0.03045846, -0.00287209, -0.16868775,  0.07399359,\n",
       "       -0.00501206,  0.10554887, -0.23068377, -0.35177812,  0.05131907,\n",
       "       -0.010469  , -0.09058942,  0.0771144 ,  0.22391593, -0.06326804,\n",
       "        0.20103703, -0.42071763, -0.05376159, -0.08627341,  0.3298905 ,\n",
       "       -0.13401131, -0.03509596,  0.0783422 , -0.23661308,  0.07276341,\n",
       "        0.17635742, -0.54747444,  0.40590748, -0.09764709, -0.5819492 ,\n",
       "       -0.00100353,  0.02408431,  0.02781046,  0.31618387,  0.4071799 ,\n",
       "        0.2944221 ,  0.18268155,  0.37721077,  0.01428593,  0.12271804,\n",
       "        0.33452165, -0.06001574, -0.19844846,  0.10034581,  0.20942812,\n",
       "       -0.04548582, -0.1106989 , -0.06472199, -0.08428402, -0.01476337],\n",
       "      dtype=float32)"
      ]
     },
     "execution_count": 17,
     "metadata": {},
     "output_type": "execute_result"
    }
   ],
   "source": [
    "# another example\n",
    "model.wv['creutzfeldtjakob']"
   ]
  },
  {
   "cell_type": "code",
   "execution_count": 18,
   "id": "8d1efa2f",
   "metadata": {},
   "outputs": [],
   "source": [
    "# saving the model for further usage\n",
    "model.save('C:/Users/Com/Downloads/Compressed/Medical Text Classification/gensim_word2vec.pickle')"
   ]
  },
  {
   "cell_type": "code",
   "execution_count": 19,
   "id": "ac190117",
   "metadata": {},
   "outputs": [
    {
     "name": "stdout",
     "output_type": "stream",
     "text": [
      "Word2Vec(vocab=19632, vector_size=100, alpha=0.025)\n"
     ]
    }
   ],
   "source": [
    "print(model)"
   ]
  },
  {
   "cell_type": "code",
   "execution_count": 58,
   "id": "844e149f",
   "metadata": {},
   "outputs": [
    {
     "ename": "AttributeError",
     "evalue": "'Functional' object has no attribute 'wv'",
     "output_type": "error",
     "traceback": [
      "\u001b[1;31m---------------------------------------------------------------------------\u001b[0m",
      "\u001b[1;31mAttributeError\u001b[0m                            Traceback (most recent call last)",
      "Input \u001b[1;32mIn [58]\u001b[0m, in \u001b[0;36m<cell line: 2>\u001b[1;34m()\u001b[0m\n\u001b[0;32m      1\u001b[0m filename \u001b[38;5;241m=\u001b[39m \u001b[38;5;124m'\u001b[39m\u001b[38;5;124membedding_word2vec.txt\u001b[39m\u001b[38;5;124m'\u001b[39m\n\u001b[1;32m----> 2\u001b[0m \u001b[43mmodel\u001b[49m\u001b[38;5;241;43m.\u001b[39;49m\u001b[43mwv\u001b[49m\u001b[38;5;241m.\u001b[39msave_word2vec_format(\u001b[38;5;124m'\u001b[39m\u001b[38;5;124mC:/Users/Com/Downloads/Compressed/Medical Text Classification/\u001b[39m\u001b[38;5;124m'\u001b[39m\u001b[38;5;241m+\u001b[39mfilename, binary\u001b[38;5;241m=\u001b[39m\u001b[38;5;28;01mFalse\u001b[39;00m)\n",
      "\u001b[1;31mAttributeError\u001b[0m: 'Functional' object has no attribute 'wv'"
     ]
    }
   ],
   "source": [
    "filename = 'embedding_word2vec.txt'\n",
    "model.wv.save_word2vec_format('C:/Users/Com/Downloads/Compressed/Medical Text Classification/'+filename, binary=False)"
   ]
  },
  {
   "cell_type": "code",
   "execution_count": 59,
   "id": "75c4cc38",
   "metadata": {},
   "outputs": [
    {
     "name": "stdout",
     "output_type": "stream",
     "text": [
      "Found 19632 word vectors.\n"
     ]
    },
    {
     "data": {
      "text/plain": [
       "dict"
      ]
     },
     "execution_count": 59,
     "metadata": {},
     "output_type": "execute_result"
    }
   ],
   "source": [
    "'''to use keras embedding layer we need to map pretrained word2vec to vocabulary\n",
    " reference https://keras.io/examples/nlp/pretrained_word_embeddings'''\n",
    "\n",
    "embeddings_index = {}\n",
    "with open('C:/Users/Com/Downloads/Compressed/Medical Text Classification/embedding_word2vec.txt') as f:\n",
    "    lines = f.readlines()[1:]\n",
    "    for line in lines:\n",
    "        word, coefs = line.split(maxsplit=1)\n",
    "        coefs = np.fromstring(coefs, \"f\", sep=\" \")\n",
    "        embeddings_index[word] = coefs\n",
    "\n",
    "print(\"Found %s word vectors.\" % len(embeddings_index))\n",
    "type(embeddings_index)"
   ]
  },
  {
   "cell_type": "code",
   "execution_count": 60,
   "id": "0677b56d",
   "metadata": {},
   "outputs": [
    {
     "data": {
      "text/plain": [
       "array([ 1.8378657 , -1.4091501 ,  0.58117014,  2.3668022 , -0.65632105,\n",
       "       -0.00485636,  1.5044531 ,  0.9383435 , -0.5023151 , -1.8788065 ,\n",
       "       -0.31076992, -0.21377558,  0.26697803,  1.9152591 , -2.2054389 ,\n",
       "        0.1454035 , -1.6088958 ,  0.5724942 ,  0.9659456 , -1.5671002 ,\n",
       "       -0.37190792,  1.5013808 ,  0.03748622,  2.4290042 ,  0.75506335,\n",
       "        0.06696817, -0.17822297, -0.14317423, -0.24673958,  0.03136602,\n",
       "       -0.8403314 ,  1.4093012 ,  0.9149972 ,  0.22476223,  1.2765849 ,\n",
       "        0.42852202, -0.29485607, -0.9218245 , -1.2793487 , -3.2222059 ,\n",
       "        0.5148228 , -2.765945  , -0.5775311 ,  0.7609737 ,  1.1866543 ,\n",
       "        0.4442466 , -2.7282484 , -0.81587523, -1.7818092 ,  0.0241127 ,\n",
       "       -0.7055245 , -1.1918575 ,  0.16772912, -0.2317059 ,  0.619447  ,\n",
       "        0.43046483, -1.5025121 , -0.18060328, -0.07964779,  0.30864158,\n",
       "       -0.49331462, -2.792177  ,  0.96513534, -1.0146035 , -2.3498821 ,\n",
       "       -0.99304837, -0.9705137 , -0.92854494, -0.5076671 ,  1.4729455 ,\n",
       "       -0.7315325 ,  0.19304095,  0.97848624, -0.61326975,  0.4307707 ,\n",
       "       -0.14909945,  0.57652426, -0.11047307, -0.2090803 , -0.09355764,\n",
       "        0.75254637, -0.31458193, -0.3981439 ,  1.465171  , -1.0168395 ,\n",
       "        0.20400566,  1.2205052 ,  0.84707594, -1.0175276 ,  0.20890975,\n",
       "       -0.93894476,  0.15921536, -0.5963439 ,  0.6074612 ,  0.45672515,\n",
       "       -1.2932365 , -1.28647   , -1.2873873 ,  0.5094611 ,  0.8172967 ],\n",
       "      dtype=float32)"
      ]
     },
     "execution_count": 60,
     "metadata": {},
     "output_type": "execute_result"
    }
   ],
   "source": [
    "embeddings_index['human']"
   ]
  },
  {
   "cell_type": "code",
   "execution_count": 61,
   "id": "c9c7a637",
   "metadata": {},
   "outputs": [],
   "source": [
    "import tensorflow as tf\n",
    "from tensorflow.keras.layers import TextVectorization\n",
    "\n",
    "vectorizer = TextVectorization(max_tokens = len(embeddings_index.keys()),output_mode=\"int\",pad_to_max_tokens=True)\n",
    "text_ds = tf.data.Dataset.from_tensor_slices(filtered_texts).batch(128)\n",
    "vectorizer.adapt(text_ds)"
   ]
  },
  {
   "cell_type": "code",
   "execution_count": 50,
   "id": "d9b8fdd7",
   "metadata": {},
   "outputs": [],
   "source": [
    "import tensorflow as tf\n",
    "from tensorflow.keras.layers import TextVectorization\n",
    "\n",
    "vectorizer = TextVectorization(max_tokens = 19632,output_mode=\"int\",output_sequence_length=370)\n",
    "text_ds = tf.data.Dataset.from_tensor_slices(filtered_texts)\n",
    "vectorizer.adapt(text_ds)\n",
    "vecx = text_ds.map(vectorizer)"
   ]
  },
  {
   "cell_type": "code",
   "execution_count": 51,
   "id": "cb1ec644",
   "metadata": {},
   "outputs": [],
   "source": [
    "X_train = []\n",
    "for gh in vecx:\n",
    "    X_train.append(gh.numpy())"
   ]
  },
  {
   "cell_type": "code",
   "execution_count": 21,
   "id": "6e6ee490",
   "metadata": {},
   "outputs": [
    {
     "name": "stdout",
     "output_type": "stream",
     "text": [
      "(370,)\n"
     ]
    }
   ],
   "source": [
    "print(X_train[4].shape)"
   ]
  },
  {
   "cell_type": "code",
   "execution_count": 55,
   "id": "b2f98e1b",
   "metadata": {
    "scrolled": true
   },
   "outputs": [],
   "source": [
    "X_train = np.array(X_train)"
   ]
  },
  {
   "cell_type": "code",
   "execution_count": 22,
   "id": "e3a0ce39",
   "metadata": {},
   "outputs": [
    {
     "data": {
      "text/plain": [
       "list"
      ]
     },
     "execution_count": 22,
     "metadata": {},
     "output_type": "execute_result"
    }
   ],
   "source": [
    "type(X_train)"
   ]
  },
  {
   "cell_type": "code",
   "execution_count": 84,
   "id": "8d13bff0",
   "metadata": {},
   "outputs": [
    {
     "name": "stdout",
     "output_type": "stream",
     "text": [
      "19632\n"
     ]
    },
    {
     "data": {
      "text/plain": [
       "['',\n",
       " '[UNK]',\n",
       " 'patients',\n",
       " 'less',\n",
       " 'disease',\n",
       " 'p',\n",
       " 'group',\n",
       " 'treatment',\n",
       " 'study',\n",
       " 'two',\n",
       " 'may',\n",
       " 'one',\n",
       " 'cases',\n",
       " 'patient',\n",
       " 'blood',\n",
       " 'years',\n",
       " 'clinical',\n",
       " '1',\n",
       " 'cells',\n",
       " '2',\n",
       " 'results',\n",
       " 'therapy',\n",
       " 'normal',\n",
       " 'associated',\n",
       " 'cell',\n",
       " 'mean',\n",
       " 'significantly',\n",
       " 'three',\n",
       " 'significant',\n",
       " 'coronary',\n",
       " 'cancer',\n",
       " '3',\n",
       " 'acute',\n",
       " 'tumor',\n",
       " 'risk',\n",
       " 'increased',\n",
       " 'pressure',\n",
       " 'rate',\n",
       " 'months',\n",
       " 'compared',\n",
       " 'age',\n",
       " 'artery',\n",
       " 'ventricular',\n",
       " '10',\n",
       " 'also',\n",
       " 'control',\n",
       " 'found',\n",
       " 'surgery',\n",
       " 'diagnosis',\n",
       " 'greater']"
      ]
     },
     "execution_count": 84,
     "metadata": {},
     "output_type": "execute_result"
    }
   ],
   "source": [
    "# last 50 words in vocab\n",
    "print(vectorizer.vocabulary_size())\n",
    "vectorizer.get_vocabulary()[:50]"
   ]
  },
  {
   "cell_type": "code",
   "execution_count": 18,
   "id": "30bb5cd1",
   "metadata": {},
   "outputs": [
    {
     "data": {
      "text/plain": [
       "array([  1,  71,  99, 289, 448], dtype=int64)"
      ]
     },
     "execution_count": 18,
     "metadata": {},
     "output_type": "execute_result"
    }
   ],
   "source": [
    "nv = vectorizer('in human liver biopsy specimens')\n",
    "nv.numpy()"
   ]
  },
  {
   "cell_type": "code",
   "execution_count": 19,
   "id": "444f81ca",
   "metadata": {},
   "outputs": [
    {
     "name": "stdout",
     "output_type": "stream",
     "text": [
      "19632\n"
     ]
    },
    {
     "data": {
      "text/plain": [
       "71"
      ]
     },
     "execution_count": 19,
     "metadata": {},
     "output_type": "execute_result"
    }
   ],
   "source": [
    "voc = vectorizer.get_vocabulary()\n",
    "print(len(voc))\n",
    "word_index = dict(zip(voc, range(len(voc))))\n",
    "#example value for 'human'\n",
    "word_index['human']\n",
    "#list(word_index.keys())[list(word_index.values()).index(13)]"
   ]
  },
  {
   "cell_type": "code",
   "execution_count": 20,
   "id": "2a1ad879",
   "metadata": {},
   "outputs": [
    {
     "name": "stdout",
     "output_type": "stream",
     "text": [
      "Converted 19629 words (3 misses)\n"
     ]
    }
   ],
   "source": [
    "'''Now, let's prepare a corresponding embedding matrix that we can use in a Keras Embedding layer. \n",
    "It's a simple NumPy matrix where entry at index i is the pre-trained vector for the word \n",
    "of index i in our vectorizer's vocabulary.'''\n",
    "\n",
    "num_tokens = len(voc) + 2\n",
    "embedding_dim = 100\n",
    "hits = 0\n",
    "misses = 0\n",
    "\n",
    "# Prepare embedding matrix\n",
    "embedding_matrix = np.zeros((num_tokens, embedding_dim))\n",
    "for word, i in word_index.items():\n",
    "    embedding_vector = embeddings_index.get(word)\n",
    "    if embedding_vector is not None:\n",
    "        # Words not found in embedding index will be all-zeros.\n",
    "        # This includes the representation for \"padding\" and \"OOV\"\n",
    "        embedding_matrix[i] = embedding_vector\n",
    "        hits += 1\n",
    "    else:\n",
    "        misses += 1\n",
    "print(\"Converted %d words (%d misses)\" % (hits, misses))"
   ]
  },
  {
   "cell_type": "code",
   "execution_count": 21,
   "id": "5e4c7e5a",
   "metadata": {},
   "outputs": [
    {
     "name": "stdout",
     "output_type": "stream",
     "text": [
      "<class 'numpy.ndarray'>\n",
      "[ 1.83786571 -1.40915012  0.58117014  2.36680222 -0.65632105 -0.00485636\n",
      "  1.50445306  0.93834352 -0.5023151  -1.87880647 -0.31076992 -0.21377558\n",
      "  0.26697803  1.91525912 -2.20543885  0.1454035  -1.60889578  0.57249421\n",
      "  0.9659456  -1.56710017 -0.37190792  1.5013808   0.03748622  2.42900419\n",
      "  0.75506335  0.06696817 -0.17822297 -0.14317423 -0.24673958  0.03136602\n",
      " -0.84033138  1.40930116  0.91499722  0.22476223  1.27658486  0.42852202\n",
      " -0.29485607 -0.92182451 -1.27934873 -3.22220588  0.51482278 -2.76594496\n",
      " -0.5775311   0.76097369  1.18665433  0.44424659 -2.72824836 -0.81587523\n",
      " -1.78180921  0.0241127  -0.7055245  -1.19185746  0.16772912 -0.2317059\n",
      "  0.61944699  0.43046483 -1.5025121  -0.18060328 -0.07964779  0.30864158\n",
      " -0.49331462 -2.79217696  0.96513534 -1.0146035  -2.34988213 -0.99304837\n",
      " -0.9705137  -0.92854494 -0.50766712  1.47294545 -0.73153251  0.19304095\n",
      "  0.97848624 -0.61326975  0.4307707  -0.14909945  0.57652426 -0.11047307\n",
      " -0.20908029 -0.09355764  0.75254637 -0.31458193 -0.39814389  1.46517098\n",
      " -1.0168395   0.20400566  1.22050524  0.84707594 -1.01752758  0.20890975\n",
      " -0.93894476  0.15921536 -0.59634387  0.60746121  0.45672515 -1.29323649\n",
      " -1.28647006 -1.28738725  0.5094611   0.81729668]\n"
     ]
    },
    {
     "data": {
      "text/plain": [
       "array([ True,  True,  True,  True,  True,  True,  True,  True,  True,\n",
       "        True,  True,  True,  True,  True,  True,  True,  True,  True,\n",
       "        True,  True,  True,  True,  True,  True,  True,  True,  True,\n",
       "        True,  True,  True,  True,  True,  True,  True,  True,  True,\n",
       "        True,  True,  True,  True,  True,  True,  True,  True,  True,\n",
       "        True,  True,  True,  True,  True,  True,  True,  True,  True,\n",
       "        True,  True,  True,  True,  True,  True,  True,  True,  True,\n",
       "        True,  True,  True,  True,  True,  True,  True,  True,  True,\n",
       "        True,  True,  True,  True,  True,  True,  True,  True,  True,\n",
       "        True,  True,  True,  True,  True,  True,  True,  True,  True,\n",
       "        True,  True,  True,  True,  True,  True,  True,  True,  True,\n",
       "        True])"
      ]
     },
     "execution_count": 21,
     "metadata": {},
     "output_type": "execute_result"
    }
   ],
   "source": [
    "print(type(embedding_matrix))\n",
    "#word2vec value for 'human'\n",
    "print(embedding_matrix[71])\n",
    "#cross checking for W2V values\n",
    "embedding_matrix[71]==embeddings_index['human']"
   ]
  },
  {
   "cell_type": "code",
   "execution_count": 22,
   "id": "e8ee8fd2",
   "metadata": {},
   "outputs": [
    {
     "data": {
      "text/plain": [
       "(19634, 100)"
      ]
     },
     "execution_count": 22,
     "metadata": {},
     "output_type": "execute_result"
    }
   ],
   "source": [
    "embedding_matrix.shape"
   ]
  },
  {
   "cell_type": "code",
   "execution_count": 27,
   "id": "133d7980",
   "metadata": {},
   "outputs": [],
   "source": [
    "np.save('C:/Users/Com/Downloads/Compressed/Medical Text Classification/embedding_matrix.npy',arr=embedding_matrix,allow_pickle=False)"
   ]
  },
  {
   "cell_type": "markdown",
   "id": "53468d13",
   "metadata": {},
   "source": [
    "# Training using Tensorflow Deeplearning models"
   ]
  },
  {
   "cell_type": "code",
   "execution_count": 68,
   "id": "cb16010e",
   "metadata": {},
   "outputs": [
    {
     "name": "stdout",
     "output_type": "stream",
     "text": [
      "(None, 398, 64)\n",
      "(None, 5)\n",
      "Model: \"model_1\"\n",
      "_________________________________________________________________\n",
      " Layer (type)                Output Shape              Param #   \n",
      "=================================================================\n",
      " input_2 (InputLayer)        [(None, 398)]             0         \n",
      "                                                                 \n",
      " embedding_1 (Embedding)     (None, 398, 64)           1256448   \n",
      "                                                                 \n",
      " flatten_1 (Flatten)         (None, 25472)             0         \n",
      "                                                                 \n",
      " dense_4 (Dense)             (None, 300)               7641900   \n",
      "                                                                 \n",
      " dense_5 (Dense)             (None, 300)               90300     \n",
      "                                                                 \n",
      " dense_6 (Dense)             (None, 300)               90300     \n",
      "                                                                 \n",
      " dense_7 (Dense)             (None, 5)                 1505      \n",
      "                                                                 \n",
      "=================================================================\n",
      "Total params: 9,080,453\n",
      "Trainable params: 9,080,453\n",
      "Non-trainable params: 0\n",
      "_________________________________________________________________\n"
     ]
    }
   ],
   "source": [
    "from tensorflow import keras\n",
    "from tensorflow.keras.models import Sequential\n",
    "from tensorflow.keras import Input\n",
    "from tensorflow.keras import layers\n",
    "from tensorflow.keras.layers import Dense, LSTM, Embedding, Dropout, Bidirectional\n",
    "import numpy as np\n",
    "\n",
    "embedding_layer = Embedding(19632,64)\n",
    "\n",
    "int_sequences_input = keras.Input(shape=(398,),dtype='int64')\n",
    "embedded_sequences = embedding_layer(int_sequences_input)\n",
    "\n",
    "model = Sequential()\n",
    "\n",
    "\n",
    "'''\n",
    "x = layers.LSTM(64)(embedded_sequences)\n",
    "x = layers.Dense(100, activation=\"relu\")(x)\n",
    "'''\n",
    "\n",
    "\n",
    "'''\n",
    "x = tf.keras.layers.SimpleRNN(\n",
    "    128,\n",
    "    activation=\"tanh\",\n",
    "    use_bias=True,\n",
    "    kernel_initializer=\"glorot_uniform\")(embedded_sequences)\n",
    "'''\n",
    "'''\n",
    "x = layers.Bidirectional(LSTM(150, return_sequences=True))(embedded_sequences)\n",
    "x = layers.Bidirectional(LSTM(150))(x)\n",
    "x = layers.Dense(128,activation='relu')(x)\n",
    "'''\n",
    "\n",
    "'''\n",
    "x = layers.Conv1D(200, 5, activation=\"relu\")(embedded_sequences)\n",
    "x = layers.MaxPooling1D(5)(x)\n",
    "x = layers.Conv1D(150, 5, activation=\"relu\")(x)\n",
    "x = layers.MaxPooling1D(5)(x)\n",
    "x = layers.Conv1D(100, 5, activation=\"relu\")(x)\n",
    "x = layers.GlobalMaxPooling1D()(x)\n",
    "\n",
    "'''\n",
    "\n",
    "\n",
    "x = layers.Flatten()(embedded_sequences)\n",
    "print(embedded_sequences.shape)\n",
    "x = layers.Dense(300, activation=\"relu\")(x)\n",
    "x = layers.Dense(300, activation='relu')(x)\n",
    "x = layers.Dense(300, activation='relu')(x)\n",
    "#x = layers.Dense(200, activation='relu')(x)\n",
    "#x = layers.Dropout(0.5)(x)\n",
    "\n",
    "\n",
    "preds = layers.Dense(5, activation=\"softmax\")(x)\n",
    "model = keras.Model(int_sequences_input, preds)\n",
    "print(model.output_shape)\n",
    "model.summary()"
   ]
  },
  {
   "cell_type": "code",
   "execution_count": 69,
   "id": "37aa057e",
   "metadata": {},
   "outputs": [],
   "source": [
    "model.compile(\n",
    "    loss=\"categorical_crossentropy\", optimizer=\"adam\", metrics=[\"acc\"]\n",
    ")"
   ]
  },
  {
   "cell_type": "code",
   "execution_count": 98,
   "id": "f8afa071",
   "metadata": {},
   "outputs": [
    {
     "data": {
      "text/plain": [
       "pandas.core.series.Series"
      ]
     },
     "execution_count": 98,
     "metadata": {},
     "output_type": "execute_result"
    }
   ],
   "source": [
    "type(df['Medical Condition'])\n",
    "type(df['Abstract'])"
   ]
  },
  {
   "cell_type": "code",
   "execution_count": 46,
   "id": "23492018",
   "metadata": {},
   "outputs": [],
   "source": [
    "#df1 = pd.read_csv(\"C:/Users/Com/Downloads/Compressed/Medical Text Classification/filtered_medical_text.csv\",usecols=['Abstract'])\n",
    "df2 = pd.read_csv(\"C:/Users/Com/Downloads/Compressed/Medical Text Classification/filtered_medical_text.csv\",usecols=['Medical Condition'])"
   ]
  },
  {
   "cell_type": "code",
   "execution_count": 47,
   "id": "b19611d0",
   "metadata": {},
   "outputs": [],
   "source": [
    "y_train = np.array(df2)\n",
    "\n",
    "from sklearn.preprocessing import LabelBinarizer\n",
    "label_as_binary = LabelBinarizer()\n",
    "train__y_labels = label_as_binary.fit_transform(y_train)\n",
    "\n",
    "#train__y_labels = train__y_labels.reshape(1,-1)"
   ]
  },
  {
   "cell_type": "code",
   "execution_count": 63,
   "id": "79e088a2",
   "metadata": {},
   "outputs": [
    {
     "data": {
      "text/plain": [
       "list"
      ]
     },
     "execution_count": 63,
     "metadata": {},
     "output_type": "execute_result"
    }
   ],
   "source": [
    "filtered_texts_file = (open(\"C:/Users/Com/Downloads/Compressed/Medical Text Classification/Filtered_text.txt\").readlines())\n",
    "type(filtered_texts_file)"
   ]
  },
  {
   "cell_type": "code",
   "execution_count": 64,
   "id": "27d26258",
   "metadata": {},
   "outputs": [],
   "source": [
    "import numpy as np\n",
    "\n",
    "X_train = vectorizer(np.array([[s] for s in filtered_texts_file],dtype=object)).numpy()\n",
    "y_train = np.array(df2)\n",
    "\n",
    "from sklearn.preprocessing import LabelBinarizer\n",
    "label_as_binary = LabelBinarizer()\n",
    "train__y_labels = label_as_binary.fit_transform(y_train)\n",
    "\n",
    "#y_train = np.asarray(train__y_labels).astype('float32').reshape((-1,1))"
   ]
  },
  {
   "cell_type": "code",
   "execution_count": 65,
   "id": "79b315c9",
   "metadata": {},
   "outputs": [
    {
     "data": {
      "text/plain": [
       "(14438, 398)"
      ]
     },
     "execution_count": 65,
     "metadata": {},
     "output_type": "execute_result"
    }
   ],
   "source": [
    "X_train.shape"
   ]
  },
  {
   "cell_type": "code",
   "execution_count": 30,
   "id": "bc1b01c1",
   "metadata": {},
   "outputs": [
    {
     "data": {
      "text/plain": [
       "(14438, 1)"
      ]
     },
     "execution_count": 30,
     "metadata": {},
     "output_type": "execute_result"
    }
   ],
   "source": [
    "y_train.shape"
   ]
  },
  {
   "cell_type": "code",
   "execution_count": 66,
   "id": "4601d14a",
   "metadata": {},
   "outputs": [
    {
     "data": {
      "text/plain": [
       "(14438, 5)"
      ]
     },
     "execution_count": 66,
     "metadata": {},
     "output_type": "execute_result"
    }
   ],
   "source": [
    "train__y_labels.shape"
   ]
  },
  {
   "cell_type": "code",
   "execution_count": 43,
   "id": "ff76bdfe",
   "metadata": {},
   "outputs": [
    {
     "name": "stdout",
     "output_type": "stream",
     "text": [
      "<class 'list'> <class 'numpy.ndarray'>\n"
     ]
    }
   ],
   "source": [
    "print(type(X_train),type(train__y_labels))"
   ]
  },
  {
   "cell_type": "code",
   "execution_count": 198,
   "id": "3959a6a0",
   "metadata": {},
   "outputs": [],
   "source": [
    "tf.config.run_functions_eagerly(True)\n",
    "tf.data.experimental.enable_debug_mode()"
   ]
  },
  {
   "cell_type": "code",
   "execution_count": 70,
   "id": "b0a68057",
   "metadata": {},
   "outputs": [
    {
     "name": "stdout",
     "output_type": "stream",
     "text": [
      "Epoch 1/20\n",
      "113/113 [==============================] - 8s 71ms/step - loss: 1.3196 - acc: 0.4465\n",
      "Epoch 2/20\n",
      "113/113 [==============================] - 8s 75ms/step - loss: 0.9421 - acc: 0.6101\n",
      "Epoch 3/20\n",
      "113/113 [==============================] - 8s 75ms/step - loss: 0.6868 - acc: 0.7033\n",
      "Epoch 4/20\n",
      "113/113 [==============================] - 9s 76ms/step - loss: 0.5377 - acc: 0.7317\n",
      "Epoch 5/20\n",
      "113/113 [==============================] - 9s 76ms/step - loss: 0.4416 - acc: 0.7417\n",
      "Epoch 6/20\n",
      "113/113 [==============================] - 8s 72ms/step - loss: 0.3886 - acc: 0.7498\n",
      "Epoch 7/20\n",
      "113/113 [==============================] - 8s 75ms/step - loss: 0.3595 - acc: 0.7531\n",
      "Epoch 8/20\n",
      "113/113 [==============================] - 8s 74ms/step - loss: 0.3486 - acc: 0.7605\n",
      "Epoch 9/20\n",
      "113/113 [==============================] - 8s 75ms/step - loss: 0.3421 - acc: 0.7664\n",
      "Epoch 10/20\n",
      "113/113 [==============================] - 8s 74ms/step - loss: 0.3393 - acc: 0.7646\n",
      "Epoch 11/20\n",
      "113/113 [==============================] - 8s 73ms/step - loss: 0.3354 - acc: 0.7620\n",
      "Epoch 12/20\n",
      "113/113 [==============================] - 8s 74ms/step - loss: 0.3365 - acc: 0.7661\n",
      "Epoch 13/20\n",
      "113/113 [==============================] - 9s 76ms/step - loss: 0.3321 - acc: 0.7657\n",
      "Epoch 14/20\n",
      "113/113 [==============================] - 9s 75ms/step - loss: 0.3313 - acc: 0.7700\n",
      "Epoch 15/20\n",
      "113/113 [==============================] - 9s 76ms/step - loss: 0.3307 - acc: 0.7746\n",
      "Epoch 16/20\n",
      "113/113 [==============================] - 9s 79ms/step - loss: 0.3308 - acc: 0.7717\n",
      "Epoch 17/20\n",
      "113/113 [==============================] - 9s 78ms/step - loss: 0.3305 - acc: 0.7730\n",
      "Epoch 18/20\n",
      "113/113 [==============================] - 9s 76ms/step - loss: 0.3329 - acc: 0.7708\n",
      "Epoch 19/20\n",
      "113/113 [==============================] - 9s 75ms/step - loss: 0.3318 - acc: 0.7695\n",
      "Epoch 20/20\n",
      "113/113 [==============================] - 9s 76ms/step - loss: 0.3312 - acc: 0.7705\n"
     ]
    },
    {
     "data": {
      "text/plain": [
       "<keras.callbacks.History at 0x230d246d850>"
      ]
     },
     "execution_count": 70,
     "metadata": {},
     "output_type": "execute_result"
    }
   ],
   "source": [
    "model.fit(X_train,train__y_labels,batch_size=128, epochs=20)"
   ]
  },
  {
   "cell_type": "markdown",
   "id": "22922b85",
   "metadata": {},
   "source": [
    "# Training using Scikit learn models"
   ]
  },
  {
   "cell_type": "code",
   "execution_count": 1,
   "id": "ee4d9b66",
   "metadata": {},
   "outputs": [],
   "source": [
    "import pandas as pd\n",
    "\n",
    "# to convert data frame to Series use squeeze() function\n",
    "full_X = pd.read_csv(\"C:/Users/Com/Downloads/Compressed/Medical Text Classification/Filtered_text.txt\").squeeze()\n",
    "full_Y = pd.read_csv(\"C:/Users/Com/Downloads/Compressed/Medical Text Classification/labels.txt\").squeeze()"
   ]
  },
  {
   "cell_type": "code",
   "execution_count": 2,
   "id": "78a83aee",
   "metadata": {},
   "outputs": [],
   "source": [
    "from sklearn.model_selection import train_test_split\n",
    "\n",
    "X_train2, X_test2, y_train2, y_test2 = train_test_split(full_X, full_Y, test_size=0.30, random_state=42)"
   ]
  },
  {
   "cell_type": "code",
   "execution_count": 3,
   "id": "5fa2a2fa",
   "metadata": {},
   "outputs": [
    {
     "data": {
      "text/plain": [
       "(10105,)"
      ]
     },
     "execution_count": 3,
     "metadata": {},
     "output_type": "execute_result"
    }
   ],
   "source": [
    "X_train2.shape"
   ]
  },
  {
   "cell_type": "code",
   "execution_count": 4,
   "id": "923b0c78",
   "metadata": {},
   "outputs": [
    {
     "data": {
      "text/plain": [
       "Pipeline(steps=[('tfidf', TfidfVectorizer(max_features=1000)),\n",
       "                ('clf', MultinomialNB())])"
      ]
     },
     "execution_count": 4,
     "metadata": {},
     "output_type": "execute_result"
    }
   ],
   "source": [
    "from sklearn.feature_extraction.text import CountVectorizer, TfidfVectorizer\n",
    "from sklearn.metrics import accuracy_score, confusion_matrix\n",
    "from sklearn.pipeline import Pipeline\n",
    "from sklearn.feature_extraction.text import TfidfTransformer\n",
    "from sklearn.ensemble import GradientBoostingClassifier\n",
    "from sklearn.linear_model import LogisticRegression,SGDClassifier\n",
    "from sklearn import model_selection, preprocessing, linear_model, naive_bayes, metrics\n",
    "\n",
    "#gbc = Pipeline([('tfidf', TfidfVectorizer(max_features=1000)),\n",
    " #              ('clf', SGDClassifier(loss='hinge')),\n",
    "  #            ])\n",
    "\n",
    "gbc = Pipeline([('tfidf', TfidfVectorizer(max_features=1000)),\n",
    "               ('clf', naive_bayes.MultinomialNB()),\n",
    "              ])\n",
    "\n",
    "gbc.fit(X_train2,y_train2)"
   ]
  },
  {
   "cell_type": "code",
   "execution_count": 5,
   "id": "0ff4c6a8",
   "metadata": {},
   "outputs": [
    {
     "name": "stdout",
     "output_type": "stream",
     "text": [
      "accuracy 0.5683287165281625\n"
     ]
    }
   ],
   "source": [
    "y_pred2 = gbc.predict(X_test2)\n",
    "\n",
    "print('accuracy %s' % accuracy_score(y_pred2, y_test2))"
   ]
  },
  {
   "cell_type": "markdown",
   "id": "2b32fa9b",
   "metadata": {},
   "source": [
    "# Training using XG Boost model"
   ]
  },
  {
   "cell_type": "code",
   "execution_count": 37,
   "id": "1fc18db0",
   "metadata": {},
   "outputs": [
    {
     "name": "stdout",
     "output_type": "stream",
     "text": [
      "[10:02:22] WARNING: C:/Users/Administrator/workspace/xgboost-win64_release_1.5.0/src/learner.cc:1115: Starting in XGBoost 1.3.0, the default evaluation metric used with the objective 'multi:softprob' was changed from 'merror' to 'mlogloss'. Explicitly set eval_metric if you'd like to restore the old behavior.\n"
     ]
    },
    {
     "data": {
      "text/plain": [
       "XGBClassifier(alpha=4, base_score=0.5, booster='gbtree', colsample_bylevel=1,\n",
       "              colsample_bynode=1, colsample_bytree=1, enable_categorical=False,\n",
       "              gamma=0, gpu_id=-1, importance_type=None,\n",
       "              interaction_constraints='', learning_rate=0.5, max_delta_step=0,\n",
       "              max_depth=10, min_child_weight=1, missing=nan,\n",
       "              monotone_constraints='()', n_estimators=20, n_jobs=8, num_class=5,\n",
       "              num_parallel_tree=1, objective='multi:softprob', predictor='auto',\n",
       "              random_state=0, reg_alpha=4, reg_lambda=1, scale_pos_weight=None,\n",
       "              subsample=1, tree_method='exact', validate_parameters=1, ...)"
      ]
     },
     "execution_count": 37,
     "metadata": {},
     "output_type": "execute_result"
    }
   ],
   "source": [
    "import xgboost as xgb\n",
    "\n",
    "vectorizer2 = TfidfVectorizer(max_features=1000)\n",
    "X_train3 = vectorizer2.fit_transform(X_train2)\n",
    "\n",
    "\n",
    "\n",
    "xg_clf = xgb.XGBClassifier(objective ='multi:softmax', colsample_bytree = 1, learning_rate = 0.5,\n",
    "                max_depth = 10, alpha = 4, n_estimators = 20,num_class=5)\n",
    "\n",
    "\n",
    "#y_train2 = (open(\"C:/Users/Com/Downloads/Compressed/Medical Text Classification/labels.txt\").readlines())\n",
    "\n",
    "xg_clf.fit(X_train3,y_train2)"
   ]
  },
  {
   "cell_type": "code",
   "execution_count": 38,
   "id": "cbc41067",
   "metadata": {},
   "outputs": [],
   "source": [
    "X_test3 = vectorizer2.fit_transform(X_test2)"
   ]
  },
  {
   "cell_type": "code",
   "execution_count": 39,
   "id": "a2c11fe4",
   "metadata": {},
   "outputs": [
    {
     "data": {
      "text/plain": [
       "(4332, 1000)"
      ]
     },
     "execution_count": 39,
     "metadata": {},
     "output_type": "execute_result"
    }
   ],
   "source": [
    "X_test3.shape"
   ]
  },
  {
   "cell_type": "code",
   "execution_count": 40,
   "id": "cb7e19d3",
   "metadata": {},
   "outputs": [],
   "source": [
    "y_pred3 = xg_clf.predict(X_test3)"
   ]
  },
  {
   "cell_type": "code",
   "execution_count": 41,
   "id": "f4ac4dec",
   "metadata": {},
   "outputs": [
    {
     "name": "stdout",
     "output_type": "stream",
     "text": [
      "accuracy 0.3889658356417359\n"
     ]
    }
   ],
   "source": [
    "print('accuracy %s' % accuracy_score(y_pred3, y_test2))"
   ]
  }
 ],
 "metadata": {
  "kernelspec": {
   "display_name": "Python 3 (ipykernel)",
   "language": "python",
   "name": "python3"
  },
  "language_info": {
   "codemirror_mode": {
    "name": "ipython",
    "version": 3
   },
   "file_extension": ".py",
   "mimetype": "text/x-python",
   "name": "python",
   "nbconvert_exporter": "python",
   "pygments_lexer": "ipython3",
   "version": "3.9.9"
  }
 },
 "nbformat": 4,
 "nbformat_minor": 5
}
